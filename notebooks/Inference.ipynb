{
 "cells": [
  {
   "cell_type": "code",
   "execution_count": 1,
   "id": "ba250b96-6828-49e5-be96-ddee379f9f58",
   "metadata": {},
   "outputs": [],
   "source": [
    "from mmdet.apis import DetInferencer"
   ]
  },
  {
   "cell_type": "code",
   "execution_count": 2,
   "id": "aabeebd5-7f63-4457-9c8c-57fb486eb4be",
   "metadata": {},
   "outputs": [
    {
     "name": "stdout",
     "output_type": "stream",
     "text": [
      "Loads checkpoint by local backend from path: /out/epoch_50.pth\n",
      "05/10 14:45:11 - mmengine - \u001b[5m\u001b[4m\u001b[33mWARNING\u001b[0m - Failed to search registry with scope \"mmdet\" in the \"function\" registry tree. As a workaround, the current \"function\" registry in \"mmengine\" is used to build instance. This may cause unexpected failure when running the built modules. Please check whether \"mmdet\" is a correct scope, or whether the registry is initialized.\n"
     ]
    },
    {
     "name": "stderr",
     "output_type": "stream",
     "text": [
      "/opt/conda/lib/python3.10/site-packages/mmengine/visualization/visualizer.py:196: UserWarning: Failed to add <class 'mmengine.visualization.vis_backend.LocalVisBackend'>, please provide the `save_dir` argument.\n",
      "  warnings.warn(f'Failed to add {vis_backend.__class__}, '\n"
     ]
    }
   ],
   "source": [
    "inferencer = DetInferencer(model=\"/out/rtmdet-ins_s_8xb32-50e_coco.py\", weights=\"/out/epoch_50.pth\")"
   ]
  },
  {
   "cell_type": "code",
   "execution_count": 4,
   "id": "d0c9ddd9-1522-4ab1-92f2-19ff2ce4a4a6",
   "metadata": {},
   "outputs": [],
   "source": [
    "!mkdir -p vis/orig"
   ]
  },
  {
   "cell_type": "code",
   "execution_count": 6,
   "id": "fdf95cca-ee49-4718-95fe-2f07661c710e",
   "metadata": {},
   "outputs": [],
   "source": [
    "!cp /data/val/vid_000112_frame0000034.jpg ./vis/orig"
   ]
  },
  {
   "cell_type": "code",
   "execution_count": 7,
   "id": "201dcd62-8c92-4e1f-8ffb-5e5e033d4f1e",
   "metadata": {},
   "outputs": [
    {
     "data": {
      "text/html": [
       "<pre style=\"white-space:pre;overflow-x:auto;line-height:normal;font-family:Menlo,'DejaVu Sans Mono',consolas,'Courier New',monospace\"></pre>\n"
      ],
      "text/plain": []
     },
     "metadata": {},
     "output_type": "display_data"
    },
    {
     "data": {
      "text/html": [
       "<pre style=\"white-space:pre;overflow-x:auto;line-height:normal;font-family:Menlo,'DejaVu Sans Mono',consolas,'Courier New',monospace\">\n",
       "</pre>\n"
      ],
      "text/plain": [
       "\n"
      ]
     },
     "metadata": {},
     "output_type": "display_data"
    }
   ],
   "source": [
    "results = inferencer('./vis/orig/vid_000112_frame0000034.jpg', out_dir=\"./\")"
   ]
  },
  {
   "cell_type": "code",
   "execution_count": null,
   "id": "c38c1a94-f8fe-4747-abeb-ca9e1e5fe41c",
   "metadata": {},
   "outputs": [],
   "source": []
  }
 ],
 "metadata": {
  "kernelspec": {
   "display_name": "Python 3 (ipykernel)",
   "language": "python",
   "name": "python3"
  },
  "language_info": {
   "codemirror_mode": {
    "name": "ipython",
    "version": 3
   },
   "file_extension": ".py",
   "mimetype": "text/x-python",
   "name": "python",
   "nbconvert_exporter": "python",
   "pygments_lexer": "ipython3",
   "version": "3.10.13"
  }
 },
 "nbformat": 4,
 "nbformat_minor": 5
}
